{
 "cells": [
  {
   "cell_type": "code",
   "execution_count": 1,
   "metadata": {},
   "outputs": [],
   "source": [
    "# Dockerfile\n",
    "#\n",
    "# FROM gcr.io/kaggle-images/python:v75"
   ]
  },
  {
   "cell_type": "code",
   "execution_count": 2,
   "metadata": {},
   "outputs": [
    {
     "name": "stdout",
     "output_type": "stream",
     "text": [
      "last updated: 2020-08-02 \n",
      "\n",
      "CPython 3.6.6\n",
      "IPython 7.13.0\n",
      "\n",
      "matplotlib 3.2.1\n",
      "nltk 3.2.4\n",
      "numpy 1.18.2\n",
      "pandas 0.25.3\n",
      "pyprind 2.11.2\n",
      "scipy 1.4.1\n",
      "seaborn 0.10.0\n",
      "sklearn 0.0\n",
      "tensorflow 2.1.0\n",
      "watermark 2.0.2\n"
     ]
    }
   ],
   "source": [
    "%load_ext watermark\n",
    "%watermark -u -d -v -p matplotlib,nltk,numpy,pandas,pyprind,scipy,seaborn,sklearn,tensorflow,watermark"
   ]
  },
  {
   "cell_type": "code",
   "execution_count": null,
   "metadata": {},
   "outputs": [],
   "source": []
  }
 ],
 "metadata": {
  "kernelspec": {
   "display_name": "Python 3",
   "language": "python",
   "name": "python3"
  },
  "language_info": {
   "codemirror_mode": {
    "name": "ipython",
    "version": 3
   },
   "file_extension": ".py",
   "mimetype": "text/x-python",
   "name": "python",
   "nbconvert_exporter": "python",
   "pygments_lexer": "ipython3",
   "version": "3.8.4"
  }
 },
 "nbformat": 4,
 "nbformat_minor": 4
}
