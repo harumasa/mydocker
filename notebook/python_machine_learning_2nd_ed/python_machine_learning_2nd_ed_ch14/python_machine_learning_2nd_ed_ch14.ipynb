{
 "cells": [
  {
   "cell_type": "code",
   "execution_count": 1,
   "metadata": {},
   "outputs": [],
   "source": [
    "# # Chapter 14: Going Deeper - The Mechanics of TensorFlow"
   ]
  },
  {
   "cell_type": "code",
   "execution_count": 2,
   "metadata": {},
   "outputs": [],
   "source": [
    "from IPython.display import Image\n",
    "%matplotlib inline"
   ]
  },
  {
   "cell_type": "code",
   "execution_count": 3,
   "metadata": {},
   "outputs": [],
   "source": [
    "import matplotlib.pyplot as plt\n",
    "import tensorflow.compat.v1 as tf\n",
    "import numpy as np"
   ]
  },
  {
   "cell_type": "code",
   "execution_count": 4,
   "metadata": {},
   "outputs": [],
   "source": [
    "# ## 14.1. TensorFlow in a nutshell"
   ]
  },
  {
   "cell_type": "code",
   "execution_count": 5,
   "metadata": {},
   "outputs": [
    {
     "name": "stdout",
     "output_type": "stream",
     "text": [
      "Shapes: () (4,) (2, 2)\n",
      "Ranks: 0 1 2\n"
     ]
    }
   ],
   "source": [
    "g = tf.Graph()\n",
    "\n",
    "## define the computation graph\n",
    "with g.as_default():\n",
    "    ## define tensors t1, t2, t3:\n",
    "    t1 = tf.constant(np.pi)\n",
    "    t2 = tf.constant([1, 2, 3, 4])\n",
    "    t3 = tf.constant([[1, 2], [3, 4]])\n",
    "\n",
    "    ## get their ranks\n",
    "    r1 = tf.rank(t1)\n",
    "    r2 = tf.rank(t2)\n",
    "    r3 = tf.rank(t3)\n",
    "\n",
    "    ## get their shapes\n",
    "    s1 = t1.get_shape()\n",
    "    s2 = t2.get_shape()\n",
    "    s3 = t3.get_shape()\n",
    "    print('Shapes:', s1, s2, s3)\n",
    "\n",
    "with tf.Session(graph=g) as sess:\n",
    "    print('Ranks:',\n",
    "          r1.eval(),\n",
    "          r2.eval(),\n",
    "          r3.eval())"
   ]
  },
  {
   "cell_type": "code",
   "execution_count": 6,
   "metadata": {},
   "outputs": [],
   "source": [
    "# ## 14.2. Understanding TensorFlow's computation graph"
   ]
  },
  {
   "cell_type": "code",
   "execution_count": 7,
   "metadata": {},
   "outputs": [
    {
     "name": "stdout",
     "output_type": "stream",
     "text": [
      "2*(a-b)+c =>  1\n"
     ]
    }
   ],
   "source": [
    "g = tf.Graph()\n",
    " \n",
    "## add nodes to the graph\n",
    "with g.as_default():\n",
    "    a = tf.constant(1, name='a')\n",
    "    b = tf.constant(2, name='b') \n",
    "    c = tf.constant(3, name='c') \n",
    "\n",
    "    z = 2*(a-b) + c\n",
    "    \n",
    "## launch the graph\n",
    "with tf.Session(graph=g) as sess:\n",
    "    print('2*(a-b)+c => ', sess.run(z))"
   ]
  },
  {
   "cell_type": "code",
   "execution_count": 8,
   "metadata": {},
   "outputs": [],
   "source": [
    "# ## 14.3. Working with TensorFlow’s placeholders, variables, and operations"
   ]
  },
  {
   "cell_type": "code",
   "execution_count": 9,
   "metadata": {},
   "outputs": [],
   "source": [
    "# ### 14.3.1. Using placeholders for feeding data as input to a model in TensorFlow"
   ]
  },
  {
   "cell_type": "code",
   "execution_count": 10,
   "metadata": {},
   "outputs": [],
   "source": [
    "# #### 14.3.1.1. Defining placeholders"
   ]
  },
  {
   "cell_type": "code",
   "execution_count": 11,
   "metadata": {},
   "outputs": [],
   "source": [
    "g = tf.Graph()\n",
    "with g.as_default():\n",
    "    tf_a = tf.placeholder(tf.int32, shape=[],\n",
    "                                    name='tf_a')\n",
    "    tf_b = tf.placeholder(tf.int32, shape=[],\n",
    "                                    name='tf_b') \n",
    "    tf_c = tf.placeholder(tf.int32, shape=[],\n",
    "                                    name='tf_c') \n",
    "\n",
    "    r1 = tf_a-tf_b\n",
    "    r2 = 2*r1\n",
    "    z  = r2 + tf_c"
   ]
  },
  {
   "cell_type": "code",
   "execution_count": 12,
   "metadata": {},
   "outputs": [],
   "source": [
    "# #### 14.3.1.2. Feeding placeholders with data"
   ]
  },
  {
   "cell_type": "code",
   "execution_count": 13,
   "metadata": {},
   "outputs": [
    {
     "name": "stdout",
     "output_type": "stream",
     "text": [
      "z: 1\n"
     ]
    }
   ],
   "source": [
    "## launch the previous graph\n",
    "with tf.Session(graph=g) as sess:\n",
    "    feed = {tf_a: 1,\n",
    "            tf_b: 2,\n",
    "            tf_c: 3}\n",
    "    print('z:',\n",
    "          sess.run(z, feed_dict=feed))"
   ]
  },
  {
   "cell_type": "code",
   "execution_count": 14,
   "metadata": {},
   "outputs": [
    {
     "name": "stdout",
     "output_type": "stream",
     "text": [
      "r1: -1\n",
      "r2: -2\n",
      "r1: -1\n",
      "r2: -2\n"
     ]
    }
   ],
   "source": [
    "## launch the previous graph\n",
    "with tf.Session(graph=g) as sess:\n",
    "    ## execution without feeding tf_c\n",
    "    feed = {tf_a: 1,\n",
    "            tf_b: 2}\n",
    "    print('r1:',\n",
    "          sess.run(r1, feed_dict=feed))\n",
    "    print('r2:',\n",
    "          sess.run(r2, feed_dict=feed))\n",
    "\n",
    "    ## execution with feeding tf_c\n",
    "    feed = {tf_a: 1,\n",
    "            tf_b: 2,\n",
    "            tf_c: 3}\n",
    "    print('r1:',\n",
    "          sess.run(r1, feed_dict=feed))\n",
    "    print('r2:',\n",
    "          sess.run(r2, feed_dict=feed))"
   ]
  },
  {
   "cell_type": "code",
   "execution_count": 15,
   "metadata": {},
   "outputs": [],
   "source": [
    "# #### 14.3.1.3. Defining placeholders for data arrays with varying batchsizes"
   ]
  },
  {
   "cell_type": "code",
   "execution_count": 16,
   "metadata": {},
   "outputs": [
    {
     "name": "stdout",
     "output_type": "stream",
     "text": [
      "Feeding data with shape (5, 2)\n",
      "Result: [0.62 0.47]\n",
      "Feeding data with shape (10, 2)\n",
      "Result: [0.46 0.49]\n"
     ]
    }
   ],
   "source": [
    "g = tf.Graph()\n",
    "\n",
    "with g.as_default():\n",
    "    tf_x = tf.placeholder(tf.float32,\n",
    "                                    shape=[None, 2],\n",
    "                                    name='tf_x')\n",
    "\n",
    "    x_mean = tf.reduce_mean(tf_x,\n",
    "                                      axis=0,\n",
    "                                      name='mean')\n",
    "\n",
    "np.random.seed(123)\n",
    "np.set_printoptions(precision=2)\n",
    "\n",
    "with tf.Session(graph=g) as sess:\n",
    "    x1 = np.random.uniform(low=0, high=1,\n",
    "                           size=(5,2))\n",
    "    print('Feeding data with shape', x1.shape)\n",
    "    print('Result:', sess.run(x_mean, \n",
    "                             feed_dict={tf_x:x1}))\n",
    "    x2 = np.random.uniform(low=0, high=1,\n",
    "                           size=(10,2))\n",
    "    print('Feeding data with shape', x2.shape)\n",
    "    print('Result:', sess.run(x_mean,\n",
    "                             feed_dict={tf_x:x2}))"
   ]
  },
  {
   "cell_type": "code",
   "execution_count": 17,
   "metadata": {},
   "outputs": [
    {
     "name": "stdout",
     "output_type": "stream",
     "text": [
      "Tensor(\"tf_x:0\", shape=(None, 2), dtype=float32)\n"
     ]
    }
   ],
   "source": [
    "print(tf_x)"
   ]
  },
  {
   "cell_type": "code",
   "execution_count": 18,
   "metadata": {},
   "outputs": [],
   "source": [
    "# ### 14.3.2. Variables in TensorFlow"
   ]
  },
  {
   "cell_type": "code",
   "execution_count": 19,
   "metadata": {},
   "outputs": [],
   "source": [
    "# #### 13.3.2.1. Defining Variables"
   ]
  },
  {
   "cell_type": "code",
   "execution_count": 20,
   "metadata": {},
   "outputs": [
    {
     "name": "stdout",
     "output_type": "stream",
     "text": [
      "<tf.Variable 'w:0' shape=(2, 4) dtype=int64>\n"
     ]
    }
   ],
   "source": [
    "g1 = tf.Graph()\n",
    "\n",
    "with g1.as_default():\n",
    "    w = tf.Variable(np.array([[1, 2, 3, 4],\n",
    "                              [5, 6, 7, 8]]), name='w')\n",
    "    print(w)"
   ]
  },
  {
   "cell_type": "code",
   "execution_count": 21,
   "metadata": {},
   "outputs": [],
   "source": [
    "# #### 13.3.2.2. Initializing variables"
   ]
  },
  {
   "cell_type": "code",
   "execution_count": 22,
   "metadata": {},
   "outputs": [
    {
     "name": "stdout",
     "output_type": "stream",
     "text": [
      "[[1 2 3 4]\n",
      " [5 6 7 8]]\n"
     ]
    }
   ],
   "source": [
    "## initialize w and evaluate it\n",
    "with tf.Session(graph=g1) as sess:\n",
    "    sess.run(tf.global_variables_initializer())\n",
    "    print(sess.run(w))"
   ]
  },
  {
   "cell_type": "code",
   "execution_count": 23,
   "metadata": {},
   "outputs": [],
   "source": [
    "g2 = tf.Graph()\n",
    "\n",
    "with g2.as_default():\n",
    "    w1 = tf.Variable(1, name='w1')\n",
    "    init_op = tf.global_variables_initializer()\n",
    "    w2 = tf.Variable(2, name='w2')"
   ]
  },
  {
   "cell_type": "code",
   "execution_count": 24,
   "metadata": {},
   "outputs": [
    {
     "name": "stdout",
     "output_type": "stream",
     "text": [
      "w1: 1\n"
     ]
    }
   ],
   "source": [
    "with tf.Session(graph=g2) as sess:\n",
    "    sess.run(init_op)\n",
    "    print('w1:', sess.run(w1))"
   ]
  },
  {
   "cell_type": "code",
   "execution_count": 25,
   "metadata": {},
   "outputs": [
    {
     "name": "stdout",
     "output_type": "stream",
     "text": [
      "Error while reading resource variable w2 from Container: localhost. This could mean that the variable was uninitialized. Not found: Resource localhost/w2/N10tensorflow3VarE does not exist.\n",
      "\t [[node w2/Read/ReadVariableOp (defined at <ipython-input-23-575e77343d32>:6) ]]\n",
      "\n",
      "Original stack trace for 'w2/Read/ReadVariableOp':\n",
      "  File \"/opt/conda/lib/python3.6/runpy.py\", line 193, in _run_module_as_main\n",
      "    \"__main__\", mod_spec)\n",
      "  File \"/opt/conda/lib/python3.6/runpy.py\", line 85, in _run_code\n",
      "    exec(code, run_globals)\n",
      "  File \"/opt/conda/lib/python3.6/site-packages/ipykernel_launcher.py\", line 16, in <module>\n",
      "    app.launch_new_instance()\n",
      "  File \"/opt/conda/lib/python3.6/site-packages/traitlets/config/application.py\", line 664, in launch_instance\n",
      "    app.start()\n",
      "  File \"/opt/conda/lib/python3.6/site-packages/ipykernel/kernelapp.py\", line 505, in start\n",
      "    self.io_loop.start()\n",
      "  File \"/opt/conda/lib/python3.6/site-packages/tornado/platform/asyncio.py\", line 127, in start\n",
      "    self.asyncio_loop.run_forever()\n",
      "  File \"/opt/conda/lib/python3.6/asyncio/base_events.py\", line 422, in run_forever\n",
      "    self._run_once()\n",
      "  File \"/opt/conda/lib/python3.6/asyncio/base_events.py\", line 1434, in _run_once\n",
      "    handle._run()\n",
      "  File \"/opt/conda/lib/python3.6/asyncio/events.py\", line 145, in _run\n",
      "    self._callback(*self._args)\n",
      "  File \"/opt/conda/lib/python3.6/site-packages/tornado/ioloop.py\", line 759, in _run_callback\n",
      "    ret = callback()\n",
      "  File \"/opt/conda/lib/python3.6/site-packages/tornado/stack_context.py\", line 276, in null_wrapper\n",
      "    return fn(*args, **kwargs)\n",
      "  File \"/opt/conda/lib/python3.6/site-packages/tornado/gen.py\", line 1199, in inner\n",
      "    self.run()\n",
      "  File \"/opt/conda/lib/python3.6/site-packages/tornado/gen.py\", line 1113, in run\n",
      "    yielded = self.gen.send(value)\n",
      "  File \"/opt/conda/lib/python3.6/site-packages/ipykernel/kernelbase.py\", line 378, in dispatch_queue\n",
      "    yield self.process_one()\n",
      "  File \"/opt/conda/lib/python3.6/site-packages/tornado/gen.py\", line 335, in wrapper\n",
      "    runner = Runner(result, future, yielded)\n",
      "  File \"/opt/conda/lib/python3.6/site-packages/tornado/gen.py\", line 1046, in __init__\n",
      "    self.run()\n",
      "  File \"/opt/conda/lib/python3.6/site-packages/tornado/gen.py\", line 1113, in run\n",
      "    yielded = self.gen.send(value)\n",
      "  File \"/opt/conda/lib/python3.6/site-packages/ipykernel/kernelbase.py\", line 365, in process_one\n",
      "    yield gen.maybe_future(dispatch(*args))\n",
      "  File \"/opt/conda/lib/python3.6/site-packages/tornado/gen.py\", line 315, in wrapper\n",
      "    yielded = next(result)\n",
      "  File \"/opt/conda/lib/python3.6/site-packages/ipykernel/kernelbase.py\", line 272, in dispatch_shell\n",
      "    yield gen.maybe_future(handler(stream, idents, msg))\n",
      "  File \"/opt/conda/lib/python3.6/site-packages/tornado/gen.py\", line 315, in wrapper\n",
      "    yielded = next(result)\n",
      "  File \"/opt/conda/lib/python3.6/site-packages/ipykernel/kernelbase.py\", line 542, in execute_request\n",
      "    user_expressions, allow_stdin,\n",
      "  File \"/opt/conda/lib/python3.6/site-packages/tornado/gen.py\", line 315, in wrapper\n",
      "    yielded = next(result)\n",
      "  File \"/opt/conda/lib/python3.6/site-packages/ipykernel/ipkernel.py\", line 294, in do_execute\n",
      "    res = shell.run_cell(code, store_history=store_history, silent=silent)\n",
      "  File \"/opt/conda/lib/python3.6/site-packages/ipykernel/zmqshell.py\", line 536, in run_cell\n",
      "    return super(ZMQInteractiveShell, self).run_cell(*args, **kwargs)\n",
      "  File \"/opt/conda/lib/python3.6/site-packages/IPython/core/interactiveshell.py\", line 2858, in run_cell\n",
      "    raw_cell, store_history, silent, shell_futures)\n",
      "  File \"/opt/conda/lib/python3.6/site-packages/IPython/core/interactiveshell.py\", line 2886, in _run_cell\n",
      "    return runner(coro)\n",
      "  File \"/opt/conda/lib/python3.6/site-packages/IPython/core/async_helpers.py\", line 68, in _pseudo_sync_runner\n",
      "    coro.send(None)\n",
      "  File \"/opt/conda/lib/python3.6/site-packages/IPython/core/interactiveshell.py\", line 3063, in run_cell_async\n",
      "    interactivity=interactivity, compiler=compiler, result=result)\n",
      "  File \"/opt/conda/lib/python3.6/site-packages/IPython/core/interactiveshell.py\", line 3254, in run_ast_nodes\n",
      "    if (await self.run_code(code, result,  async_=asy)):\n",
      "  File \"/opt/conda/lib/python3.6/site-packages/IPython/core/interactiveshell.py\", line 3331, in run_code\n",
      "    exec(code_obj, self.user_global_ns, self.user_ns)\n",
      "  File \"<ipython-input-23-575e77343d32>\", line 6, in <module>\n",
      "    w2 = tf.Variable(2, name='w2')\n",
      "  File \"/opt/conda/lib/python3.6/site-packages/tensorflow_core/python/ops/variables.py\", line 258, in __call__\n",
      "    return cls._variable_v1_call(*args, **kwargs)\n",
      "  File \"/opt/conda/lib/python3.6/site-packages/tensorflow_core/python/ops/variables.py\", line 219, in _variable_v1_call\n",
      "    shape=shape)\n",
      "  File \"/opt/conda/lib/python3.6/site-packages/tensorflow_core/python/ops/variables.py\", line 197, in <lambda>\n",
      "    previous_getter = lambda **kwargs: default_variable_creator(None, **kwargs)\n",
      "  File \"/opt/conda/lib/python3.6/site-packages/tensorflow_core/python/ops/variable_scope.py\", line 2596, in default_variable_creator\n",
      "    shape=shape)\n",
      "  File \"/opt/conda/lib/python3.6/site-packages/tensorflow_core/python/ops/variables.py\", line 262, in __call__\n",
      "    return super(VariableMetaclass, cls).__call__(*args, **kwargs)\n",
      "  File \"/opt/conda/lib/python3.6/site-packages/tensorflow_core/python/ops/resource_variable_ops.py\", line 1411, in __init__\n",
      "    distribute_strategy=distribute_strategy)\n",
      "  File \"/opt/conda/lib/python3.6/site-packages/tensorflow_core/python/ops/resource_variable_ops.py\", line 1592, in _init_from_args\n",
      "    value = gen_resource_variable_ops.read_variable_op(handle, dtype)\n",
      "  File \"/opt/conda/lib/python3.6/site-packages/tensorflow_core/python/ops/gen_resource_variable_ops.py\", line 483, in read_variable_op\n",
      "    \"ReadVariableOp\", resource=resource, dtype=dtype, name=name)\n",
      "  File \"/opt/conda/lib/python3.6/site-packages/tensorflow_core/python/framework/op_def_library.py\", line 742, in _apply_op_helper\n",
      "    attrs=attr_protos, op_def=op_def)\n",
      "  File \"/opt/conda/lib/python3.6/site-packages/tensorflow_core/python/framework/ops.py\", line 3322, in _create_op_internal\n",
      "    op_def=op_def)\n",
      "  File \"/opt/conda/lib/python3.6/site-packages/tensorflow_core/python/framework/ops.py\", line 1756, in __init__\n",
      "    self._traceback = tf_stack.extract_stack()\n",
      "\n"
     ]
    }
   ],
   "source": [
    "with tf.Session(graph=g2) as sess:\n",
    "\n",
    "    try:\n",
    "        sess.run(init_op)\n",
    "        print('w2:', sess.run(w2))\n",
    "    except tf.errors.FailedPreconditionError as e:\n",
    "        print(e)"
   ]
  },
  {
   "cell_type": "code",
   "execution_count": 26,
   "metadata": {},
   "outputs": [],
   "source": [
    "# #### 13.3.2.3. Variable scope"
   ]
  },
  {
   "cell_type": "code",
   "execution_count": 27,
   "metadata": {},
   "outputs": [
    {
     "name": "stdout",
     "output_type": "stream",
     "text": [
      "<tf.Variable 'net_A/layer-1/weights:0' shape=(10, 4) dtype=float32>\n",
      "<tf.Variable 'net_A/layer-2/weights:0' shape=(20, 10) dtype=float32>\n",
      "<tf.Variable 'net_B/layer-1/weights:0' shape=(10, 4) dtype=float32>\n"
     ]
    }
   ],
   "source": [
    "g = tf.Graph()\n",
    "\n",
    "with g.as_default():\n",
    "    with tf.variable_scope('net_A'):\n",
    "        with tf.variable_scope('layer-1'):\n",
    "            w1 = tf.Variable(tf.random_normal(\n",
    "                shape=(10,4)), name='weights')\n",
    "        with tf.variable_scope('layer-2'):\n",
    "            w2 = tf.Variable(tf.random_normal(\n",
    "                shape=(20,10)), name='weights')\n",
    "    with tf.variable_scope('net_B'):\n",
    "        with tf.variable_scope('layer-1'):\n",
    "            w3 = tf.Variable(tf.random_normal(\n",
    "                shape=(10,4)), name='weights')\n",
    "\n",
    "    print(w1)\n",
    "    print(w2)\n",
    "    print(w3)"
   ]
  },
  {
   "cell_type": "code",
   "execution_count": 28,
   "metadata": {},
   "outputs": [],
   "source": [
    "# #### 13.3.2.4. Reusing variables"
   ]
  },
  {
   "cell_type": "code",
   "execution_count": 29,
   "metadata": {},
   "outputs": [
    {
     "name": "stdout",
     "output_type": "stream",
     "text": [
      "<tf.Variable 'classifier/weights:0' shape=(100, 2) dtype=float32>\n",
      "<tf.Variable 'classifier/bias:0' shape=(2,) dtype=float32>\n",
      "Tensor(\"classifier/logits:0\", shape=(64, 2), dtype=float32)\n",
      "<tf.Variable 'classifier/weights:0' shape=(100, 2) dtype=float32>\n",
      "<tf.Variable 'classifier/bias:0' shape=(2,) dtype=float32>\n",
      "Tensor(\"classifier/logits_1:0\", shape=(64, 2), dtype=float32)\n"
     ]
    }
   ],
   "source": [
    "######################\n",
    "## Helper functions ##\n",
    "######################\n",
    "\n",
    "def build_classifier(data, labels, n_classes=2):\n",
    "    data_shape = data.get_shape().as_list()\n",
    "    weights = tf.get_variable(name='weights',\n",
    "                                        shape=(data_shape[1], n_classes),\n",
    "                                        dtype=tf.float32)\n",
    "    bias = tf.get_variable(name='bias',\n",
    "                           initializer=tf.zeros(shape=n_classes))\n",
    "    print(weights)\n",
    "    print(bias)\n",
    "    logits = tf.add(tf.matmul(data, weights),\n",
    "                              bias, \n",
    "                              name='logits')\n",
    "    print(logits)\n",
    "    return logits, tf.nn.softmax(logits)\n",
    "\n",
    "def build_generator(data, n_hidden):\n",
    "    data_shape = data.get_shape().as_list()\n",
    "    w1 = tf.Variable(\n",
    "        tf.random_normal(shape=(data_shape[1],\n",
    "                                          n_hidden)),\n",
    "        name='w1')\n",
    "    b1 = tf.Variable(tf.zeros(shape=n_hidden),\n",
    "                               name='b1')\n",
    "    hidden = tf.add(tf.matmul(data, w1), b1, \n",
    "                    name='hidden_pre-activation')\n",
    "    hidden = tf.nn.relu(hidden, 'hidden_activation')\n",
    "\n",
    "    w2 = tf.Variable(\n",
    "        tf.random_normal(shape=(n_hidden,\n",
    "                                          data_shape[1])),\n",
    "        name='w2')\n",
    "    b2 = tf.Variable(tf.zeros(shape=data_shape[1]),\n",
    "                               name='b2')\n",
    "    output = tf.add(tf.matmul(hidden, w2), b2,\n",
    "                              name = 'output')\n",
    "    return output, tf.nn.sigmoid(output)\n",
    "\n",
    "########################\n",
    "## Defining the graph ##\n",
    "########################\n",
    "\n",
    "batch_size=64\n",
    "g = tf.Graph()\n",
    "\n",
    "with g.as_default():\n",
    "    tf_X = tf.placeholder(shape=(batch_size, 100),\n",
    "                                    dtype=tf.float32,\n",
    "                                    name='tf_X')\n",
    "    ## build the generator\n",
    "    with tf.variable_scope('generator'):\n",
    "        gen_out1 = build_generator(data=tf_X,\n",
    "                                   n_hidden=50)\n",
    "\n",
    "    ## build the classifier\n",
    "    with tf.variable_scope('classifier') as scope:\n",
    "        ## classifier for the original data:\n",
    "        cls_out1 = build_classifier(data=tf_X,\n",
    "                                    labels=tf.ones(\n",
    "                                        shape=batch_size))\n",
    "\n",
    "        ## reuse the classifier for generated data\n",
    "        scope.reuse_variables()\n",
    "        cls_out2 = build_classifier(data=gen_out1[1],\n",
    "                                    labels=tf.zeros(\n",
    "                                        shape=batch_size))\n",
    "\n",
    "        init_op = tf.global_variables_initializer()"
   ]
  },
  {
   "cell_type": "code",
   "execution_count": 30,
   "metadata": {},
   "outputs": [
    {
     "name": "stdout",
     "output_type": "stream",
     "text": [
      "<tf.Variable 'classifier/weights:0' shape=(100, 2) dtype=float32>\n",
      "<tf.Variable 'classifier/bias:0' shape=(2,) dtype=float32>\n",
      "Tensor(\"classifier/logits:0\", shape=(64, 2), dtype=float32)\n",
      "<tf.Variable 'classifier/weights:0' shape=(100, 2) dtype=float32>\n",
      "<tf.Variable 'classifier/bias:0' shape=(2,) dtype=float32>\n",
      "Tensor(\"classifier_1/logits:0\", shape=(64, 2), dtype=float32)\n"
     ]
    }
   ],
   "source": [
    "## alternative way\n",
    "\n",
    "g = tf.Graph()\n",
    "\n",
    "with g.as_default():\n",
    "    tf_X = tf.placeholder(shape=(batch_size, 100),\n",
    "                                    dtype=tf.float32,\n",
    "                                    name='tf_X')\n",
    "    ## build the generator\n",
    "    with tf.variable_scope('generator'):\n",
    "        gen_out1 = build_generator(data=tf_X,\n",
    "                                   n_hidden=50)\n",
    "\n",
    "    ## build the classifier\n",
    "    with tf.variable_scope('classifier'):\n",
    "        ## classifier for the original data:\n",
    "        cls_out1 = build_classifier(data=tf_X,\n",
    "                                    labels=tf.ones(\n",
    "                                        shape=batch_size))\n",
    "\n",
    "    with tf.variable_scope('classifier', reuse=True):\n",
    "        ## reuse the classifier for generated data\n",
    "        cls_out2 = build_classifier(data=gen_out1[1],\n",
    "                                    labels=tf.zeros(\n",
    "                                        shape=batch_size))\n",
    "\n",
    "        init_op = tf.global_variables_initializer()"
   ]
  },
  {
   "cell_type": "code",
   "execution_count": 31,
   "metadata": {},
   "outputs": [],
   "source": [
    "# ## 14.3.3. Building a regression model"
   ]
  },
  {
   "cell_type": "code",
   "execution_count": 32,
   "metadata": {},
   "outputs": [
    {
     "name": "stdout",
     "output_type": "stream",
     "text": [
      "Tensor(\"y_hat:0\", dtype=float32)\n",
      "Tensor(\"cost:0\", shape=(), dtype=float32)\n"
     ]
    }
   ],
   "source": [
    "## define a graph\n",
    "g = tf.Graph()\n",
    "\n",
    "## define the computation graph\n",
    "with g.as_default():\n",
    "    ## placeholders\n",
    "    tf.set_random_seed(123)\n",
    "    tf_x = tf.placeholder(shape=(None),\n",
    "                                    dtype=tf.float32,\n",
    "                                    name='tf_x')\n",
    "    tf_y = tf.placeholder(shape=(None),\n",
    "                                    dtype=tf.float32,\n",
    "                                    name='tf_y')\n",
    "\n",
    "    ## define the variable (model parameters)\n",
    "    weight = tf.Variable(\n",
    "        tf.random_normal(\n",
    "            shape=(1, 1),\n",
    "            stddev=0.25),\n",
    "        name='weight')\n",
    "    bias = tf.Variable(0.0, name='bias')\n",
    "\n",
    "    ## build the model\n",
    "    y_hat = tf.add(weight * tf_x, bias,\n",
    "                             name='y_hat')\n",
    "    print(y_hat)\n",
    "\n",
    "    ## compute the cost\n",
    "    cost = tf.reduce_mean(tf.square(tf_y - y_hat),\n",
    "                                    name='cost')\n",
    "    print(cost)\n",
    "\n",
    "    ## train\n",
    "    optim = tf.train.GradientDescentOptimizer(\n",
    "        learning_rate=0.001)\n",
    "    train_op = optim.minimize(cost, name='train_op')"
   ]
  },
  {
   "cell_type": "code",
   "execution_count": 33,
   "metadata": {},
   "outputs": [
    {
     "data": {
      "image/png": "[encoded data removed]",
      "text/plain": [
       "<Figure size 432x288 with 1 Axes>"
      ]
     },
     "metadata": {
      "needs_background": "light"
     },
     "output_type": "display_data"
    }
   ],
   "source": [
    "## create a random toy dataset for regression\n",
    "\n",
    "np.random.seed(0)\n",
    "\n",
    "def make_random_data():\n",
    "    x = np.random.uniform(low=-2, high=4, size=200)\n",
    "    y = []\n",
    "    for t in x:\n",
    "        r = np.random.normal(loc=0.0,\n",
    "                             scale=(0.5 + t*t/3),\n",
    "                             size=None)\n",
    "        y.append(r)\n",
    "    return  x, 1.726*x -0.84 + np.array(y)\n",
    "\n",
    "x, y = make_random_data()\n",
    "\n",
    "plt.plot(x, y, 'o')\n",
    "plt.show()"
   ]
  },
  {
   "cell_type": "code",
   "execution_count": 34,
   "metadata": {},
   "outputs": [],
   "source": [
    "# ### 14.3.4. Executing objects in a TensorFlow graph using their names"
   ]
  },
  {
   "cell_type": "code",
   "execution_count": 35,
   "metadata": {},
   "outputs": [
    {
     "name": "stdout",
     "output_type": "stream",
     "text": [
      "Epoch    0: 12.2230\n",
      "Epoch   50: 8.3876\n",
      "Epoch  100: 6.5721\n",
      "Epoch  150: 5.6844\n",
      "Epoch  200: 5.2269\n",
      "Epoch  250: 4.9725\n",
      "Epoch  300: 4.8169\n",
      "Epoch  350: 4.7119\n",
      "Epoch  400: 4.6347\n",
      "Epoch  450: 4.5742\n"
     ]
    },
    {
     "data": {
      "text/plain": [
       "[<matplotlib.lines.Line2D at 0x7f71e80a0630>]"
      ]
     },
     "execution_count": 35,
     "metadata": {},
     "output_type": "execute_result"
    },
    {
     "data": {
      "image/png": "[encoded data removed]",
      "text/plain": [
       "<Figure size 432x288 with 1 Axes>"
      ]
     },
     "metadata": {
      "needs_background": "light"
     },
     "output_type": "display_data"
    }
   ],
   "source": [
    "## train/test splits:\n",
    "x_train, y_train = x[:100], y[:100]\n",
    "x_test, y_test = x[100:], y[100:]\n",
    "\n",
    "## training the model\n",
    "n_epochs = 500\n",
    "training_costs = []\n",
    "with tf.Session(graph=g) as sess:\n",
    "    ## first, run the variables initializer\n",
    "    sess.run(tf.global_variables_initializer())\n",
    "\n",
    "    ## train the model for n_epochs\n",
    "    for e in range(n_epochs):\n",
    "        c, _ = sess.run([cost, train_op],\n",
    "                        feed_dict={tf_x: x_train,\n",
    "                                   tf_y: y_train})\n",
    "        training_costs.append(c)\n",
    "        if not e % 50:\n",
    "            print('Epoch %4d: %.4f' % (e, c))\n",
    "\n",
    "plt.plot(training_costs)"
   ]
  },
  {
   "cell_type": "code",
   "execution_count": 36,
   "metadata": {},
   "outputs": [
    {
     "data": {
      "image/png": "[encoded data removed]",
      "text/plain": [
       "<Figure size 432x288 with 1 Axes>"
      ]
     },
     "metadata": {
      "needs_background": "light"
     },
     "output_type": "display_data"
    },
    {
     "name": "stdout",
     "output_type": "stream",
     "text": [
      "Epoch    0: 12.2230\n",
      "Epoch   50: 8.3876\n",
      "Epoch  100: 6.5721\n",
      "Epoch  150: 5.6844\n",
      "Epoch  200: 5.2269\n",
      "Epoch  250: 4.9725\n",
      "Epoch  300: 4.8169\n",
      "Epoch  350: 4.7119\n",
      "Epoch  400: 4.6347\n",
      "Epoch  450: 4.5742\n"
     ]
    }
   ],
   "source": [
    "## train/test splits\n",
    "x_train, y_train = x[:100], y[:100]\n",
    "x_test, y_test = x[100:], y[100:]\n",
    "\n",
    "## plot trainng data\n",
    "plt.plot(x_train, y_train, 'o')\n",
    "plt.show()\n",
    "\n",
    "## training the model\n",
    "n_epochs = 500\n",
    "training_costs = []\n",
    "with tf.Session(graph=g) as sess:\n",
    "    ## first, run the variables initializer\n",
    "    sess.run(tf.global_variables_initializer())\n",
    "\n",
    "    ## train the model for n_eopchs\n",
    "    for e in range(n_epochs):\n",
    "        c, _ = sess.run(['cost:0', 'train_op'],\n",
    "                        feed_dict={'tf_x:0': x_train,\n",
    "                                   'tf_y:0': y_train})\n",
    "        training_costs.append(c)\n",
    "        if not e % 50:\n",
    "            print('Epoch %4d: %.4f' % (e, c))"
   ]
  },
  {
   "cell_type": "code",
   "execution_count": 37,
   "metadata": {},
   "outputs": [],
   "source": [
    "# ## 14.4. Saving and restoring a model in TensorFlow"
   ]
  },
  {
   "cell_type": "code",
   "execution_count": 38,
   "metadata": {},
   "outputs": [
    {
     "name": "stdout",
     "output_type": "stream",
     "text": [
      "Epoch    0: 12.2230\n",
      "Epoch   50: 8.3876\n",
      "Epoch  100: 6.5721\n",
      "Epoch  150: 5.6844\n",
      "Epoch  200: 5.2269\n",
      "Epoch  250: 4.9725\n",
      "Epoch  300: 4.8169\n",
      "Epoch  350: 4.7119\n",
      "Epoch  400: 4.6347\n",
      "Epoch  450: 4.5742\n"
     ]
    }
   ],
   "source": [
    "## add saver to the graph\n",
    "with g.as_default():\n",
    "    saver = tf.train.Saver()\n",
    "\n",
    "## training the model\n",
    "n_epochs = 500\n",
    "training_costs = []\n",
    "\n",
    "with tf.Session(graph=g) as sess:\n",
    "    ## first, run the variables initializer\n",
    "    sess.run(tf.global_variables_initializer())\n",
    "\n",
    "    ## train the model for n_epochs\n",
    "    for e in range(n_epochs):\n",
    "        c, _ = sess.run(['cost:0', 'train_op'],\n",
    "                        feed_dict={'tf_x:0':x_train,\n",
    "                                   'tf_y:0':y_train})\n",
    "        training_costs.append(c)\n",
    "        if not e % 50:\n",
    "            print('Epoch %4d: %.4f' % (e, c))\n",
    "\n",
    "    saver.save(sess, './trained-model')"
   ]
  },
  {
   "cell_type": "code",
   "execution_count": 39,
   "metadata": {},
   "outputs": [],
   "source": [
    "## new file: loading a trained model\n",
    "## and run the model on test set\n",
    "\n",
    "g2 = tf.Graph()\n",
    "with tf.Session(graph=g2) as sess:\n",
    "    new_saver = tf.train.import_meta_graph(\n",
    "        './trained-model.meta')\n",
    "    new_saver.restore(sess, './trained-model')\n",
    "\n",
    "    y_pred = sess.run('y_hat:0',\n",
    "                      feed_dict={'tf_x:0' : x_test})"
   ]
  },
  {
   "cell_type": "code",
   "execution_count": 40,
   "metadata": {},
   "outputs": [
    {
     "name": "stdout",
     "output_type": "stream",
     "text": [
      "SSE: 538.8118\n"
     ]
    }
   ],
   "source": [
    "print('SSE: %.4f' % (np.sum(np.square(y_pred - y_test))))"
   ]
  },
  {
   "cell_type": "code",
   "execution_count": 41,
   "metadata": {},
   "outputs": [
    {
     "data": {
      "image/png": "[encoded data removed]",
      "text/plain": [
       "<Figure size 432x288 with 1 Axes>"
      ]
     },
     "metadata": {
      "needs_background": "light"
     },
     "output_type": "display_data"
    }
   ],
   "source": [
    "x_arr = np.arange(-2, 4, 0.1)\n",
    "\n",
    "g2 = tf.Graph()\n",
    "with tf.Session(graph=g2) as sess:\n",
    "    new_saver = tf.train.import_meta_graph(\n",
    "        './trained-model.meta')\n",
    "    new_saver.restore(sess, './trained-model')\n",
    "\n",
    "    y_arr = sess.run('y_hat:0',\n",
    "                      feed_dict={'tf_x:0' : x_arr})\n",
    "\n",
    "plt.figure()\n",
    "plt.plot(x_train, y_train, 'bo')\n",
    "plt.plot(x_test, y_test, 'bo', alpha=0.3)\n",
    "plt.plot(x_arr, y_arr.T[:, 0], '-r', lw=3)\n",
    "plt.show()"
   ]
  },
  {
   "cell_type": "code",
   "execution_count": 42,
   "metadata": {},
   "outputs": [],
   "source": [
    "# ## 14.5. Transforming Tensors as multidimensional data arrays"
   ]
  },
  {
   "cell_type": "code",
   "execution_count": 43,
   "metadata": {},
   "outputs": [
    {
     "name": "stdout",
     "output_type": "stream",
     "text": [
      "Tensor(\"T1:0\", shape=(3, 4), dtype=float64)\n",
      "Shape of T1 is (3, 4)\n",
      "<tf.Variable 'Variable:0' shape=(3, 4) dtype=float32>\n",
      "<tf.Variable 'Variable_1:0' shape=(3,) dtype=float32>\n"
     ]
    }
   ],
   "source": [
    "g = tf.Graph()\n",
    "with g.as_default():\n",
    "    arr = np.array([[1., 2., 3., 3.5],\n",
    "                    [4., 5., 6., 6.5],\n",
    "                    [7., 8., 9., 9.5]])\n",
    "    T1 = tf.constant(arr, name='T1')\n",
    "    print(T1)\n",
    "    s = T1.get_shape()\n",
    "    print('Shape of T1 is', s)\n",
    "    T2 = tf.Variable(tf.random_normal(\n",
    "        shape=s))\n",
    "    print(T2)\n",
    "    T3 = tf.Variable(tf.random_normal(\n",
    "        shape=(s.as_list()[0],)))\n",
    "    print(T3)"
   ]
  },
  {
   "cell_type": "code",
   "execution_count": 44,
   "metadata": {},
   "outputs": [
    {
     "name": "stdout",
     "output_type": "stream",
     "text": [
      "Tensor(\"T4:0\", shape=(1, 1, 12), dtype=float64)\n",
      "Tensor(\"T5:0\", shape=(1, 3, 4), dtype=float64)\n"
     ]
    }
   ],
   "source": [
    "with g.as_default():\n",
    "    T4 = tf.reshape(T1, shape=[1, 1, -1],\n",
    "                              name='T4')\n",
    "    print(T4)\n",
    "    T5 = tf.reshape(T1, shape=[1, 3, -1],\n",
    "                              name='T5')\n",
    "    print(T5)"
   ]
  },
  {
   "cell_type": "code",
   "execution_count": 45,
   "metadata": {},
   "outputs": [
    {
     "name": "stdout",
     "output_type": "stream",
     "text": [
      "[[[1.  2.  3.  3.5 4.  5.  6.  6.5 7.  8.  9.  9.5]]]\n",
      "\n",
      "[[[1.  2.  3.  3.5]\n",
      "  [4.  5.  6.  6.5]\n",
      "  [7.  8.  9.  9.5]]]\n"
     ]
    }
   ],
   "source": [
    "with tf.Session(graph = g) as sess:\n",
    "    print(sess.run(T4)) \n",
    "    print()   \n",
    "    print(sess.run(T5))"
   ]
  },
  {
   "cell_type": "code",
   "execution_count": 46,
   "metadata": {},
   "outputs": [
    {
     "name": "stdout",
     "output_type": "stream",
     "text": [
      "Tensor(\"T6:0\", shape=(4, 3, 1), dtype=float64)\n",
      "Tensor(\"T7:0\", shape=(1, 4, 3), dtype=float64)\n"
     ]
    }
   ],
   "source": [
    "with g.as_default():\n",
    "    T6 = tf.transpose(T5, perm=[2, 1, 0], \n",
    "                                name='T6')\n",
    "    print(T6)\n",
    "    T7 = tf.transpose(T5, perm=[0, 2, 1], \n",
    "                                name='T7')\n",
    "    print(T7)"
   ]
  },
  {
   "cell_type": "code",
   "execution_count": 47,
   "metadata": {},
   "outputs": [
    {
     "name": "stdout",
     "output_type": "stream",
     "text": [
      "[<tf.Tensor 'T8:0' shape=(1, 3, 2) dtype=float64>, <tf.Tensor 'T8:1' shape=(1, 3, 2) dtype=float64>]\n"
     ]
    }
   ],
   "source": [
    "with g.as_default():\n",
    "    t5_splt = tf.split(T5,\n",
    "                                 num_or_size_splits=2,\n",
    "                                 axis=2, name='T8')\n",
    "    print(t5_splt)"
   ]
  },
  {
   "cell_type": "code",
   "execution_count": 48,
   "metadata": {},
   "outputs": [
    {
     "name": "stdout",
     "output_type": "stream",
     "text": [
      "Tensor(\"t1:0\", shape=(5, 1), dtype=float32)\n",
      "Tensor(\"t2:0\", shape=(5, 1), dtype=float32)\n",
      "Tensor(\"t3:0\", shape=(10, 1), dtype=float32)\n",
      "Tensor(\"t4:0\", shape=(5, 2), dtype=float32)\n"
     ]
    }
   ],
   "source": [
    "g = tf.Graph()\n",
    "with g.as_default():\n",
    "    t1 = tf.ones(shape=(5, 1),\n",
    "                           dtype=tf.float32, name='t1')\n",
    "    t2 = tf.zeros(shape=(5, 1),\n",
    "                           dtype=tf.float32, name='t2')\n",
    "    print(t1)\n",
    "    print(t2)\n",
    "\n",
    "with g.as_default():\n",
    "    t3 = tf.concat([t1, t2], axis=0, name='t3')\n",
    "    print(t3)\n",
    "    t4 = tf.concat([t1, t2], axis=1, name='t4')\n",
    "    print(t4)"
   ]
  },
  {
   "cell_type": "code",
   "execution_count": 49,
   "metadata": {},
   "outputs": [
    {
     "name": "stdout",
     "output_type": "stream",
     "text": [
      "[[1.]\n",
      " [1.]\n",
      " [1.]\n",
      " [1.]\n",
      " [1.]\n",
      " [0.]\n",
      " [0.]\n",
      " [0.]\n",
      " [0.]\n",
      " [0.]]\n",
      "\n",
      "[[1. 0.]\n",
      " [1. 0.]\n",
      " [1. 0.]\n",
      " [1. 0.]\n",
      " [1. 0.]]\n"
     ]
    }
   ],
   "source": [
    "with tf.Session(graph = g) as sess:\n",
    "    print(t3.eval())\n",
    "    print()\n",
    "    print(t4.eval())"
   ]
  },
  {
   "cell_type": "code",
   "execution_count": 50,
   "metadata": {},
   "outputs": [],
   "source": [
    "# ## 14.6. Utilizing control flow mechanics in building graphs"
   ]
  },
  {
   "cell_type": "code",
   "execution_count": 51,
   "metadata": {},
   "outputs": [
    {
     "name": "stdout",
     "output_type": "stream",
     "text": [
      "Object:  Tensor(\"result_add:0\", dtype=float32)\n",
      "x < y: True -> Result: 3.0\n",
      "x < y: False -> Result: 3.0\n"
     ]
    }
   ],
   "source": [
    "## Python control flow\n",
    "\n",
    "x, y = 1.0, 2.0\n",
    "\n",
    "g = tf.Graph()\n",
    "with g.as_default():\n",
    "    tf_x = tf.placeholder(dtype=tf.float32,\n",
    "                                    shape=None, name='tf_x')\n",
    "    tf_y = tf.placeholder(dtype=tf.float32,\n",
    "                                    shape=None, name='tf_y')\n",
    "    if x < y:\n",
    "        res = tf.add(tf_x, tf_y, name='result_add')\n",
    "    else:\n",
    "        res = tf.subtract(tf_x, tf_y, name='result_sub')\n",
    "\n",
    "    print('Object: ', res)\n",
    "\n",
    "with tf.Session(graph=g) as sess:\n",
    "    print('x < y: %s -> Result:' % (x < y),\n",
    "          res.eval(feed_dict={'tf_x:0': x,\n",
    "                              'tf_y:0': y}))\n",
    "    x, y = 2.0, 1.0\n",
    "    print('x < y: %s -> Result:' % (x < y),\n",
    "          res.eval(feed_dict={'tf_x:0': x,\n",
    "                              'tf_y:0': y}))\n",
    "\n",
    "    ## uncomment the next line if you want to visualize the graph in TensorBoard:\n",
    "    file_writer = tf.summary.FileWriter(logdir='./logs/py-cflow/', graph=g)"
   ]
  },
  {
   "cell_type": "code",
   "execution_count": 52,
   "metadata": {},
   "outputs": [
    {
     "name": "stdout",
     "output_type": "stream",
     "text": [
      "Object: Tensor(\"cond/Identity:0\", dtype=float32)\n",
      "x < y: True -> Result: 3.0\n",
      "x < y: False -> Result: 1.0\n"
     ]
    }
   ],
   "source": [
    "## TensorFlow control flow\n",
    "\n",
    "x, y = 1.0, 2.0\n",
    "\n",
    "g = tf.Graph()\n",
    "with g.as_default():\n",
    "    tf_x = tf.placeholder(dtype=tf.float32,\n",
    "                                    shape=None, name='tf_x')\n",
    "    tf_y = tf.placeholder(dtype=tf.float32,\n",
    "                                    shape=None, name='tf_y')\n",
    "    res = tf.cond(tf_x < tf_y,\n",
    "                  lambda: tf.add(tf_x, tf_y,\n",
    "                                           name='result_add'),\n",
    "                  lambda: tf.subtract(tf_x, tf_y,\n",
    "                                                name='result_sub'))\n",
    "    print('Object:', res)\n",
    "\n",
    "with tf.Session(graph=g) as sess:\n",
    "    print('x < y: %s -> Result:' % (x < y),\n",
    "          res.eval(feed_dict={'tf_x:0': x,\n",
    "                              'tf_y:0': y}))\n",
    "    x, y = 2.0, 1.0\n",
    "    print('x < y: %s -> Result:' % (x < y),\n",
    "          res.eval(feed_dict={'tf_x:0': x,\n",
    "                              'tf_y:0': y}))\n",
    "\n",
    "    #file_writer = tf.summary.FileWriter(logdir='./logs/tf-cond/', graph=g)"
   ]
  },
  {
   "cell_type": "code",
   "execution_count": 53,
   "metadata": {},
   "outputs": [],
   "source": [
    "# ## 14.6. Visualizing the graph with TensorBoard"
   ]
  },
  {
   "cell_type": "code",
   "execution_count": 54,
   "metadata": {},
   "outputs": [
    {
     "name": "stdout",
     "output_type": "stream",
     "text": [
      "<tf.Variable 'classifier/weights:0' shape=(100, 2) dtype=float32>\n",
      "<tf.Variable 'classifier/bias:0' shape=(2,) dtype=float32>\n",
      "Tensor(\"classifier/logits:0\", shape=(64, 2), dtype=float32)\n",
      "<tf.Variable 'classifier/weights:0' shape=(100, 2) dtype=float32>\n",
      "<tf.Variable 'classifier/bias:0' shape=(2,) dtype=float32>\n",
      "Tensor(\"classifier/logits_1:0\", shape=(64, 2), dtype=float32)\n"
     ]
    }
   ],
   "source": [
    "import tensorflow.compat.v1 as tf\n",
    "\n",
    "###########################\n",
    "##   Helper functions    ##\n",
    "###########################\n",
    "\n",
    "def build_classifier(data, labels, n_classes=2):\n",
    "    data_shape = data.get_shape().as_list()\n",
    "    weights = tf.get_variable(name = 'weights',\n",
    "                                        shape=(data_shape[1],\n",
    "                                               n_classes),\n",
    "                                        dtype=tf.float32)\n",
    "    bias = tf.get_variable(name='bias',\n",
    "                                     initializer=tf.zeros(\n",
    "                                     shape=n_classes))\n",
    "    print(weights)\n",
    "    print(bias)\n",
    "    logits = tf.add(tf.matmul(data, weights),\n",
    "                              bias,\n",
    "                              name='logits')\n",
    "    print(logits)\n",
    "    return logits, tf.nn.softmax(logits)\n",
    "\n",
    "\n",
    "def build_generator(data, n_hidden):\n",
    "    data_shape = data.get_shape().as_list()\n",
    "    w1 = tf.Variable(\n",
    "        tf.random_normal(shape=(data_shape[1],\n",
    "                                          n_hidden)),\n",
    "        name='w1')\n",
    "    b1 = tf.Variable(tf.zeros(shape=n_hidden),\n",
    "                               name='b1')\n",
    "    hidden = tf.add(tf.matmul(data, w1), b1,\n",
    "                              name='hidden_pre-activation')\n",
    "    hidden = tf.nn.relu(hidden, 'hidden_activation')\n",
    "\n",
    "    w2 = tf.Variable(\n",
    "        tf.random_normal(shape=(n_hidden,\n",
    "                                          data_shape[1])),\n",
    "        name='w2')\n",
    "    b2 = tf.Variable(tf.zeros(shape=data_shape[1]),\n",
    "                               name='b2')\n",
    "    output = tf.add(tf.matmul(hidden, w2), b2, \n",
    "                              name = 'output')\n",
    "    return output, tf.nn.sigmoid(output)\n",
    "\n",
    "###########################\n",
    "##  Building the graph   ##\n",
    "###########################\n",
    "\n",
    "batch_size=64\n",
    "g = tf.Graph()\n",
    "\n",
    "with g.as_default():\n",
    "    tf_X = tf.placeholder(shape=(batch_size, 100),\n",
    "                                    dtype=tf.float32,\n",
    "                                    name='tf_X')\n",
    "\n",
    "    ## build the generator\n",
    "    with tf.variable_scope('generator'):\n",
    "        gen_out1 = build_generator(data=tf_X,\n",
    "                                   n_hidden=50)\n",
    "\n",
    "    ## build the classifier\n",
    "    with tf.variable_scope('classifier') as scope:\n",
    "        ## classifier for the original data:\n",
    "        cls_out1 = build_classifier(data=tf_X,\n",
    "                                    labels=tf.ones(\n",
    "                                        shape=batch_size))\n",
    "\n",
    "        ## reuse the classifier for generated data\n",
    "        scope.reuse_variables()\n",
    "        cls_out2 = build_classifier(data=gen_out1[1],\n",
    "                                    labels=tf.zeros(\n",
    "                                        shape=batch_size))\n",
    "\n",
    "with tf.Session(graph = g) as sess:\n",
    "    sess.run(tf.global_variables_initializer())\n",
    "\n",
    "    file_writer = tf.summary.FileWriter(logdir='logs/', graph=g)"
   ]
  },
  {
   "cell_type": "code",
   "execution_count": null,
   "metadata": {},
   "outputs": [],
   "source": []
  }
 ],
 "metadata": {
  "kernelspec": {
   "display_name": "Python 3",
   "language": "python",
   "name": "python3"
  },
  "language_info": {
   "codemirror_mode": {
    "name": "ipython",
    "version": 3
   },
   "file_extension": ".py",
   "mimetype": "text/x-python",
   "name": "python",
   "nbconvert_exporter": "python",
   "pygments_lexer": "ipython3",
   "version": "3.6.6"
  }
 },
 "nbformat": 4,
 "nbformat_minor": 4
}
