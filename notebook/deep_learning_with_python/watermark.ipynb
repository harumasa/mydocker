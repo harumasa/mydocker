{
 "cells": [
  {
   "cell_type": "code",
   "execution_count": 1,
   "metadata": {},
   "outputs": [],
   "source": [
    "# Dockerfile\n",
    "#\n",
    "# FROM jupyter/datascience-notebook:python-3.8.4"
   ]
  },
  {
   "cell_type": "code",
   "execution_count": 2,
   "metadata": {},
   "outputs": [
    {
     "name": "stdout",
     "output_type": "stream",
     "text": [
      "last updated: 2020-08-03 \n",
      "\n",
      "CPython 3.8.4\n",
      "IPython 7.16.1\n",
      "\n",
      "graphviz 0.14.1\n",
      "h5py 2.10.0\n",
      "keras 2.4.3\n",
      "matplotlib 3.2.2\n",
      "numpy 1.18.5\n",
      "opencv-python not installed\n",
      "pydot-ng not installed\n",
      "scipy 1.4.1\n",
      "tensorflow 2.3.0\n",
      "watermark 2.0.2\n"
     ]
    }
   ],
   "source": [
    "%load_ext watermark\n",
    "%watermark -u -d -v -p graphviz,h5py,keras,matplotlib,numpy,opencv-python,pydot-ng,scipy,tensorflow,watermark"
   ]
  },
  {
   "cell_type": "code",
   "execution_count": 3,
   "metadata": {},
   "outputs": [
    {
     "name": "stdout",
     "output_type": "stream",
     "text": [
      "Name: opencv-python\n",
      "Version: 4.3.0.36\n",
      "Summary: Wrapper package for OpenCV python bindings.\n",
      "Home-page: https://github.com/skvark/opencv-python\n",
      "Author: None\n",
      "Author-email: None\n",
      "License: MIT\n",
      "Location: /opt/conda/lib/python3.8/site-packages\n",
      "Requires: numpy\n",
      "Required-by: \n",
      "Note: you may need to restart the kernel to use updated packages.\n"
     ]
    }
   ],
   "source": [
    "pip show opencv-python"
   ]
  },
  {
   "cell_type": "code",
   "execution_count": 4,
   "metadata": {},
   "outputs": [
    {
     "name": "stdout",
     "output_type": "stream",
     "text": [
      "Name: pydot-ng\n",
      "Version: 2.0.0\n",
      "Summary: Python interface to Graphviz's Dot\n",
      "Home-page: https://github.com/pydot/pydot-ng\n",
      "Author: Ero Carrera\n",
      "Author-email: ero@dkbza.org\n",
      "License: MIT\n",
      "Location: /opt/conda/lib/python3.8/site-packages\n",
      "Requires: pyparsing\n",
      "Required-by: \n",
      "Note: you may need to restart the kernel to use updated packages.\n"
     ]
    }
   ],
   "source": [
    "pip show pydot-ng"
   ]
  },
  {
   "cell_type": "code",
   "execution_count": null,
   "metadata": {},
   "outputs": [],
   "source": []
  }
 ],
 "metadata": {
  "kernelspec": {
   "display_name": "Python 3",
   "language": "python",
   "name": "python3"
  },
  "language_info": {
   "codemirror_mode": {
    "name": "ipython",
    "version": 3
   },
   "file_extension": ".py",
   "mimetype": "text/x-python",
   "name": "python",
   "nbconvert_exporter": "python",
   "pygments_lexer": "ipython3",
   "version": "3.8.4"
  }
 },
 "nbformat": 4,
 "nbformat_minor": 4
}
